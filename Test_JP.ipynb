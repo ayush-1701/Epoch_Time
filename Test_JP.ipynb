{
 "cells": [
  {
   "cell_type": "code",
   "execution_count": 2,
   "metadata": {
    "collapsed": true,
    "pycharm": {
     "name": "#%%\n"
    }
   },
   "outputs": [],
   "source": [
    "import pandas as pd\n",
    "import numpy as np\n",
    "import datetime"
   ]
  },
  {
   "cell_type": "code",
   "execution_count": 3,
   "outputs": [],
   "source": [
    "df = pd.read_csv(\"./sample-data.csv\")"
   ],
   "metadata": {
    "collapsed": false,
    "pycharm": {
     "name": "#%%\n"
    }
   }
  },
  {
   "cell_type": "code",
   "execution_count": 4,
   "outputs": [],
   "source": [
    "time_list = []\n",
    "for ele in df[\"time\"]:\n",
    "    time_list.append(datetime.datetime.fromtimestamp(ele))"
   ],
   "metadata": {
    "collapsed": false,
    "pycharm": {
     "name": "#%%\n"
    }
   }
  },
  {
   "cell_type": "code",
   "execution_count": 5,
   "outputs": [],
   "source": [
    "df[\"new_Col1\"] = time_list"
   ],
   "metadata": {
    "collapsed": false,
    "pycharm": {
     "name": "#%%\n"
    }
   }
  },
  {
   "cell_type": "code",
   "execution_count": 12,
   "outputs": [
    {
     "name": "stdout",
     "output_type": "stream",
     "text": [
      "Start Row: 1\n",
      "Ending Row: 22\n",
      "Appending 6 in Rows: 1 to  22\n"
     ]
    }
   ],
   "source": [
    "start = int(input(\"Start Row: \"))\n",
    "end = int(input(\"End Row: \"))\n",
    "label = int(input(\"Label: \"))\n",
    "\n",
    "print(\"Start Row:\", start)\n",
    "print(\"Ending Row:\", end)\n",
    "\n",
    "print(\"Appending\", label, \"in Rows:\", start, \"to\",end)"
   ],
   "metadata": {
    "collapsed": false,
    "pycharm": {
     "name": "#%%\n"
    }
   }
  },
  {
   "cell_type": "code",
   "execution_count": 7,
   "outputs": [
    {
     "data": {
      "text/plain": "10455"
     },
     "execution_count": 7,
     "metadata": {},
     "output_type": "execute_result"
    }
   ],
   "source": [
    "input_list = []\n",
    "df_len = len(df[\"time\"])\n",
    "df_len"
   ],
   "metadata": {
    "collapsed": false,
    "pycharm": {
     "name": "#%%\n"
    }
   }
  },
  {
   "cell_type": "code",
   "execution_count": 8,
   "outputs": [],
   "source": [
    "input_list = []\n",
    "df_len = len(df[\"time\"])\n",
    "\n",
    "for i in range(df_len):\n",
    "    if i < start or i > end:\n",
    "        input_list.append(\"\")   #BLANK CELLS\n",
    "    else:\n",
    "        input_list.append(label)"
   ],
   "metadata": {
    "collapsed": false,
    "pycharm": {
     "name": "#%%\n"
    }
   }
  },
  {
   "cell_type": "code",
   "execution_count": 10,
   "outputs": [
    {
     "name": "stdout",
     "output_type": "stream",
     "text": [
      "             time      accX      accY      accZ       gyrX       gyrY  \\\n",
      "0      1620022010 -5.509766 -2.220703  5.208984   3.417969  16.113281   \n",
      "1      1620022010 -5.533203 -2.210938  5.205078 -15.380859  22.277832   \n",
      "2      1620022010 -5.591797 -2.097656  5.251953 -28.564453  27.282715   \n",
      "3      1620022011 -5.517578 -2.107422  5.220703 -43.029785  37.841797   \n",
      "4      1620022011 -5.562500 -2.152344  5.306641 -57.617188  41.503906   \n",
      "...           ...       ...       ...       ...        ...        ...   \n",
      "10450  1620022189 -6.326172 -1.777344  3.976562  -8.483887  13.000488   \n",
      "10451  1620022189 -6.398438 -1.783203  4.025391  -8.605957  12.207031   \n",
      "10452  1620022189 -6.392578 -1.792969  3.998047  -7.934570  12.756348   \n",
      "10453  1620022189 -6.388672 -1.783203  4.052734  -9.033203  14.282227   \n",
      "10454  1620022189 -6.404297 -1.738281  4.013672  -7.080078  15.197754   \n",
      "\n",
      "            gyrZ      magX      magY      magZ            new_Col1 col2  \n",
      "0     -30.944824 -0.175195  0.006348  0.060303 2021-05-03 11:36:50       \n",
      "1     -27.893066 -0.175195  0.006348  0.060303 2021-05-03 11:36:50       \n",
      "2     -22.155762 -0.175195  0.006348  0.060303 2021-05-03 11:36:50    2  \n",
      "3      -6.103516 -0.175195  0.006348  0.060303 2021-05-03 11:36:51    2  \n",
      "4      12.451172 -0.175195  0.006348  0.060303 2021-05-03 11:36:51    2  \n",
      "...          ...       ...       ...       ...                 ...  ...  \n",
      "10450  -1.159668 -0.175195  0.006348  0.060303 2021-05-03 11:39:49       \n",
      "10451   0.793457 -0.175195  0.006348  0.060303 2021-05-03 11:39:49       \n",
      "10452  -0.549316 -0.175195  0.006348  0.060303 2021-05-03 11:39:49       \n",
      "10453   1.281738 -0.175195  0.006348  0.060303 2021-05-03 11:39:49       \n",
      "10454  -1.098633 -0.175195  0.006348  0.060303 2021-05-03 11:39:49       \n",
      "\n",
      "[10455 rows x 12 columns]\n"
     ]
    }
   ],
   "source": [
    "df[\"new_Col2\"] = input_list\n",
    "print(df)\n",
    "\n",
    "df.to_csv(\"./solution.csv\")"
   ],
   "metadata": {
    "collapsed": false,
    "pycharm": {
     "name": "#%%\n"
    }
   }
  },
  {
   "cell_type": "code",
   "execution_count": null,
   "outputs": [],
   "source": [],
   "metadata": {
    "collapsed": false,
    "pycharm": {
     "name": "#%%\n"
    }
   }
  }
 ],
 "metadata": {
  "kernelspec": {
   "display_name": "Python 3",
   "language": "python",
   "name": "python3"
  },
  "language_info": {
   "codemirror_mode": {
    "name": "ipython",
    "version": 2
   },
   "file_extension": ".py",
   "mimetype": "text/x-python",
   "name": "python",
   "nbconvert_exporter": "python",
   "pygments_lexer": "ipython2",
   "version": "2.7.6"
  }
 },
 "nbformat": 4,
 "nbformat_minor": 0
}